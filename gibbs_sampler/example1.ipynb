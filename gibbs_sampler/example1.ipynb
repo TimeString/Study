{
 "cells": [
  {
   "cell_type": "code",
   "execution_count": 46,
   "metadata": {},
   "outputs": [
    {
     "name": "stdout",
     "output_type": "stream",
     "text": [
      "================================\n",
      "   This implements Example 1\n",
      "================================\n"
     ]
    }
   ],
   "source": [
    "print(\"================================\")\n",
    "print(\"   This implements Example 1\")\n",
    "print(\"================================\")"
   ]
  },
  {
   "cell_type": "code",
   "execution_count": 47,
   "metadata": {},
   "outputs": [],
   "source": [
    "import numpy\n",
    "from matplotlib import pyplot as plt"
   ]
  },
  {
   "cell_type": "code",
   "execution_count": 48,
   "metadata": {},
   "outputs": [],
   "source": [
    "def gibbs_sampler(k, alpha, beta, n):\n",
    "    \"\"\"\n",
    "    k: Length of gibbs sampling\n",
    "    alpha, beta, n: beta-binomial parameters\n",
    "    \"\"\"\n",
    "    \n",
    "    # has to manually give the first y\n",
    "    y = numpy.random.uniform(0, 1)\n",
    "    \n",
    "    # iterate k times, take turns to sample x and y\n",
    "    for _ in range(k):\n",
    "        #print('y', y)\n",
    "        x = numpy.random.binomial(n, y)\n",
    "        y = numpy.random.beta(x + alpha, n - x + beta)\n",
    "        #print('x', x)\n",
    "    \n",
    "    return x"
   ]
  },
  {
   "cell_type": "code",
   "execution_count": null,
   "metadata": {},
   "outputs": [],
   "source": []
  },
  {
   "cell_type": "code",
   "execution_count": 49,
   "metadata": {},
   "outputs": [
    {
     "data": {
      "image/png": "[encoded data removed]",
      "text/plain": [
       "<matplotlib.figure.Figure at 0x1129a8e80>"
      ]
     },
     "metadata": {},
     "output_type": "display_data"
    }
   ],
   "source": [
    "# main procedure\n",
    "n = 16\n",
    "alpha = 2\n",
    "beta = 4\n",
    "k = 10\n",
    "num_samples = 100000\n",
    "\n",
    "# do sampling\n",
    "x_values = [gibbs_sampler(k, alpha, beta, n) for _ in range(num_samples)]\n",
    "\n",
    "# plot histogram\n",
    "bins = numpy.arange(0, n+1, 1) # fixed bin size\n",
    "\n",
    "plt.hist(x_values, bins=bins, alpha=0.3)\n",
    "plt.title('Histogram')\n",
    "plt.xlabel('x')\n",
    "plt.ylabel('count')\n",
    "\n",
    "plt.show()"
   ]
  },
  {
   "cell_type": "code",
   "execution_count": null,
   "metadata": {},
   "outputs": [],
   "source": []
  }
 ],
 "metadata": {
  "kernelspec": {
   "display_name": "Python 3",
   "language": "python",
   "name": "python3"
  },
  "language_info": {
   "codemirror_mode": {
    "name": "ipython",
    "version": 3
   },
   "file_extension": ".py",
   "mimetype": "text/x-python",
   "name": "python",
   "nbconvert_exporter": "python",
   "pygments_lexer": "ipython3",
   "version": "3.4.1"
  }
 },
 "nbformat": 4,
 "nbformat_minor": 2
}
