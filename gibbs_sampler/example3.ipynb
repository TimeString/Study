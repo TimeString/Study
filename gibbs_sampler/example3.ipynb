{
 "cells": [
  {
   "cell_type": "code",
   "execution_count": 61,
   "metadata": {},
   "outputs": [
    {
     "name": "stdout",
     "output_type": "stream",
     "text": [
      "===============================\n",
      "   This implements Example 3\n",
      "===============================\n"
     ]
    }
   ],
   "source": [
    "print(\"===============================\")\n",
    "print(\"   This implements Example 3\")\n",
    "print(\"===============================\")"
   ]
  },
  {
   "cell_type": "code",
   "execution_count": null,
   "metadata": {},
   "outputs": [],
   "source": [
    "\"\"\"\n",
    "P.S., I think there is a typo in equation 4.8: It should\n",
    "\"\"\""
   ]
  },
  {
   "cell_type": "code",
   "execution_count": 62,
   "metadata": {},
   "outputs": [],
   "source": [
    "import numpy as np\n",
    "from matplotlib import pyplot as plt\n",
    "from scipy.special import gammaln"
   ]
  },
  {
   "cell_type": "code",
   "execution_count": 63,
   "metadata": {},
   "outputs": [],
   "source": [
    "def sample_x_given_y_n(y, n):\n",
    "    return np.random.binomial(n, y)"
   ]
  },
  {
   "cell_type": "code",
   "execution_count": 64,
   "metadata": {},
   "outputs": [],
   "source": [
    "def sample_y_given_x_n(x, n, alpha, beta):\n",
    "    \"\"\"\n",
    "    x, n are given\n",
    "    alpha, beta are distribution parameters and should be treated as constant\n",
    "    \"\"\"\n",
    "    return np.random.beta(x + alpha, n - x + beta)"
   ]
  },
  {
   "cell_type": "code",
   "execution_count": 65,
   "metadata": {},
   "outputs": [],
   "source": [
    "def f_n_given_x_y(n, x, y, lamb):\n",
    "    \"\"\"\n",
    "    n, x, and y are parameters of the conditional probability\n",
    "    lamb is the distribution parameter (lambda)\n",
    "    \n",
    "    Note that in equation 4.9, we can omit e^{-(1-y)*lamb} because it can be treated as a constnat\n",
    "    and will not affect the proportionaility\n",
    "    \n",
    "    Since the value is too large, we take log for both numerator and denominator then get the\n",
    "    exponential value\n",
    "    \"\"\"\n",
    "    log_numerator = np.log((1. - y) * lamb) * (n - x)\n",
    "    log_denominator = gammaln(n - x + 1)\n",
    "    return np.exp(log_numerator - log_denominator)"
   ]
  },
  {
   "cell_type": "code",
   "execution_count": 66,
   "metadata": {},
   "outputs": [],
   "source": [
    "def sample_n_given_x_y(x, y, lamb):\n",
    "    \"\"\"\n",
    "    x, y, lamb: see function f_n_given_x_y for the definition\n",
    "    \n",
    "    We consider the range of n to be [x, x + 500) because f is underflow when n is too big\n",
    "    \"\"\"\n",
    "    ns = range(x, x + 500)\n",
    "    weights = [f_n_given_x_y(n, x ,y, lamb) for n in ns]\n",
    "    sum_weight = sum(weights)\n",
    "    prob = [w / sum_weight for w in weights]\n",
    "    return np.random.choice(ns, p=prob)"
   ]
  },
  {
   "cell_type": "code",
   "execution_count": 67,
   "metadata": {},
   "outputs": [],
   "source": [
    "def gibbs_sampler(k, alpha, beta, lamb):\n",
    "    \"\"\"\n",
    "    k: Length of gibbs sampling\n",
    "    alpha, beta, lamb: probability distribution parameters\n",
    "    \"\"\"\n",
    "    \n",
    "    # has to manually give the first y\n",
    "    y = np.random.uniform(0, 1)\n",
    "    n = np.random.randint(1, 10)  # 10 most likely values\n",
    "    \n",
    "    # iterate k times, take turns to sample x and y\n",
    "    for _ in range(k):\n",
    "        x = sample_x_given_y_n(y, n)\n",
    "        y = sample_y_given_x_n(x, n, alpha, beta)\n",
    "        n = sample_n_given_x_y(x, y, lamb)\n",
    "    \n",
    "    return x"
   ]
  },
  {
   "cell_type": "code",
   "execution_count": 68,
   "metadata": {},
   "outputs": [
    {
     "data": {
      "image/png": "[encoded data removed]",
      "text/plain": [
       "<matplotlib.figure.Figure at 0x113876fd0>"
      ]
     },
     "metadata": {},
     "output_type": "display_data"
    }
   ],
   "source": [
    "# main procedure\n",
    "lamb = 16\n",
    "alpha = 2\n",
    "beta = 4\n",
    "k = 10\n",
    "num_samples = 1000\n",
    "\n",
    "# do sampling\n",
    "x_values = [gibbs_sampler(k, alpha, beta, lamb) for _ in range(num_samples)]\n",
    "\n",
    "# plot histogram\n",
    "bins = np.arange(1, 20, 1) # fixed bin size\n",
    "\n",
    "plt.hist(x_values, bins=bins, alpha=0.3)\n",
    "plt.title('Histogram')\n",
    "plt.xlabel('x')\n",
    "plt.ylabel('count')\n",
    "\n",
    "plt.show()"
   ]
  },
  {
   "cell_type": "code",
   "execution_count": 72,
   "metadata": {},
   "outputs": [
    {
     "name": "stdout",
     "output_type": "stream",
     "text": [
      "You can see the shape is similar to Figure 5. However, it is not as smooth as what the paper reports.\n"
     ]
    }
   ],
   "source": [
    "print(\"You can see the shape is similar to Figure 5. However, it is not as smooth as what the paper reports.\")"
   ]
  }
 ],
 "metadata": {
  "kernelspec": {
   "display_name": "Python 3",
   "language": "python",
   "name": "python3"
  },
  "language_info": {
   "codemirror_mode": {
    "name": "ipython",
    "version": 3
   },
   "file_extension": ".py",
   "mimetype": "text/x-python",
   "name": "python",
   "nbconvert_exporter": "python",
   "pygments_lexer": "ipython3",
   "version": "3.4.1"
  }
 },
 "nbformat": 4,
 "nbformat_minor": 2
}
