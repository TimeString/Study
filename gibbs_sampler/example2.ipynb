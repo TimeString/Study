{
 "cells": [
  {
   "cell_type": "code",
   "execution_count": 37,
   "metadata": {},
   "outputs": [
    {
     "name": "stdout",
     "output_type": "stream",
     "text": [
      "===============================\n",
      "   This implements Example 2\n",
      "===============================\n"
     ]
    }
   ],
   "source": [
    "print(\"===============================\")\n",
    "print(\"   This implements Example 2\")\n",
    "print(\"===============================\")"
   ]
  },
  {
   "cell_type": "code",
   "execution_count": 38,
   "metadata": {},
   "outputs": [],
   "source": [
    "import numpy as np\n",
    "from matplotlib import pyplot as plt"
   ]
  },
  {
   "cell_type": "code",
   "execution_count": 39,
   "metadata": {},
   "outputs": [],
   "source": [
    "def sample_from_a_e_to_ax(a, bound):\n",
    "    \"\"\"\n",
    "    The probability density function is proportional to\n",
    "    \n",
    "        pdf(x)  ~  a * e^(ax)\n",
    "    \n",
    "    with the range 0 <= x <= bound. We calculate the cumulative distribution function\n",
    "    \n",
    "        cdf(x)  ~  1 - e^(-ax)\n",
    "    \n",
    "    to draw the x with respect to the pdf.\n",
    "    \"\"\"\n",
    "    total = 1. - np.exp(-a * bound)\n",
    "    \n",
    "    seed = np.random.uniform(0, total)\n",
    "    return -np.log(1. - seed) / a"
   ]
  },
  {
   "cell_type": "code",
   "execution_count": 40,
   "metadata": {},
   "outputs": [],
   "source": [
    "def gibbs_sampler(k, bound):\n",
    "    \"\"\"\n",
    "    k: Length of gibbs sampling\n",
    "    bound: probability distribution parameter\n",
    "    \"\"\"\n",
    "    \n",
    "    # has to manually give the first y\n",
    "    y = np.random.uniform(0, bound)\n",
    "    \n",
    "    # iterate k times, take turns to sample x and y\n",
    "    for _ in range(k):\n",
    "        x = sample_from_a_e_to_ax(y, bound)\n",
    "        y = sample_from_a_e_to_ax(x, bound)\n",
    "    \n",
    "    return x"
   ]
  },
  {
   "cell_type": "code",
   "execution_count": 41,
   "metadata": {},
   "outputs": [
    {
     "data": {
      "image/png": "[encoded data removed]",
      "text/plain": [
       "<matplotlib.figure.Figure at 0x112b2e2b0>"
      ]
     },
     "metadata": {},
     "output_type": "display_data"
    }
   ],
   "source": [
    "# main procedure\n",
    "bound = 5.\n",
    "k = 15\n",
    "num_samples = 10000\n",
    "bin_width = 0.1\n",
    "\n",
    "# do sampling\n",
    "x_values = [gibbs_sampler(k, bound) for _ in range(num_samples)]\n",
    "\n",
    "# plot histogram\n",
    "bins = np.arange(0, bound, bin_width) # fixed bin size\n",
    "\n",
    "plt.hist(x_values, bins=bins, alpha=0.3)\n",
    "plt.title('Histogram')\n",
    "plt.xlabel('x')\n",
    "plt.ylabel('count')\n",
    "\n",
    "plt.show()"
   ]
  },
  {
   "cell_type": "code",
   "execution_count": 42,
   "metadata": {},
   "outputs": [
    {
     "name": "stdout",
     "output_type": "stream",
     "text": [
      "As you can see, the curve is similar to the dashed line in Figure 2\n"
     ]
    }
   ],
   "source": [
    "print(\"As you can see, the curve is similar to the dashed line in Figure 2\")"
   ]
  }
 ],
 "metadata": {
  "kernelspec": {
   "display_name": "Python 3",
   "language": "python",
   "name": "python3"
  },
  "language_info": {
   "codemirror_mode": {
    "name": "ipython",
    "version": 3
   },
   "file_extension": ".py",
   "mimetype": "text/x-python",
   "name": "python",
   "nbconvert_exporter": "python",
   "pygments_lexer": "ipython3",
   "version": "3.4.1"
  }
 },
 "nbformat": 4,
 "nbformat_minor": 2
}
